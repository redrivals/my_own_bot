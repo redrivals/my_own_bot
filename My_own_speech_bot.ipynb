{
 "cells": [
  {
   "cell_type": "code",
   "execution_count": 6,
   "metadata": {},
   "outputs": [],
   "source": [
    "import speech_recognition as sr\n",
    "import pyttsx3 as p\n",
    "import import_ipynb\n",
    "import wiki\n",
    "from wiki import info\n",
    "import movie_review\n",
    "from movie_review import movie\n",
    "import play_video\n",
    "from play_video import music\n",
    "\n"
   ]
  },
  {
   "cell_type": "code",
   "execution_count": 21,
   "metadata": {},
   "outputs": [],
   "source": [
    "\n"
   ]
  },
  {
   "cell_type": "code",
   "execution_count": 7,
   "metadata": {},
   "outputs": [
    {
     "name": "stdout",
     "output_type": "stream",
     "text": [
      "How are you today?\n",
      "I'm good\n",
      "what do you want?\n",
      "play music\n",
      "palying a girl like you\n"
     ]
    }
   ],
   "source": [
    "r = sr.Recognizer()\n",
    "engine = p.init()\n",
    "voices=engine.getProperty(\"voices\")\n",
    "engine.setProperty(\"voice\",voices[1].id)\n",
    "engine.say(\"Hello, how are you today ?\")\n",
    "engine.runAndWait()\n",
    "\n",
    "with sr.Microphone() as source:\n",
    "    r.adjust_for_ambient_noise(source)\n",
    "    print(\"How are you today?\")\n",
    "    text = r.listen(source)\n",
    "    try:\n",
    "        recognised_text = r.recognize_google(text)\n",
    "        print(recognised_text)\n",
    "    \n",
    "    except sr.UnknownValueError:\n",
    "        print(\" \")\n",
    "    except sr.RequestError as e:\n",
    "        print(\"\")\n",
    "#instruction\n",
    "engine.say(\"so what would you like me to do?\")\n",
    "engine.runAndWait()\n",
    "print(\"what do you want?\")\n",
    "\n",
    "r2=sr.Recognizer()\n",
    "with sr.Microphone() as source:\n",
    "    r.adjust_for_ambient_noise(source)\n",
    "    text1 = r.listen(source)\n",
    "    try:\n",
    "        instruction = r.recognize_google(text1)\n",
    "        print(instruction)\n",
    "    except sr.UnknownValueError:\n",
    "        print(\" \")\n",
    "    except sr.RequestError as e:\n",
    "        print(\"\")\n",
    "#getting info from wiki\n",
    "\n",
    "r3=sr.Recognizer()\n",
    "if \"information\" in instruction:\n",
    "    engine.say(\"information about what?\")\n",
    "    engine.runAndWait()\n",
    "    with sr.Microphone() as source1:\n",
    "        text2 = r3.listen(source1)\n",
    "        try:\n",
    "            information = r3.recognize_google(text2)\n",
    "            bot =info()\n",
    "            bot.get_info(information)\n",
    "        except sr.UnknownValueError:\n",
    "            print(\" \")\n",
    "        except sr.RequestError as e:\n",
    "            print(\"\")\n",
    "#movie review\n",
    "r4=sr.Recognizer()\n",
    "if \"review\" in instruction:\n",
    "    engine.say(\"what is the name of the movie?\")\n",
    "    engine.runAndWait()\n",
    "    with sr.Microphone() as source2:\n",
    "        text3 = r4.listen(source2)\n",
    "        try:\n",
    "            audio4 = r4.recognize_google(text3)\n",
    "            print(\"review of\",audio4)\n",
    "            bot=movie()\n",
    "            bot.movie_review(audio4)\n",
    "\n",
    "            bot.get_info(information)\n",
    "        except sr.UnknownValueError:\n",
    "            print(\" \")\n",
    "        except sr.RequestError as e:\n",
    "            print(\"\")\n",
    "#playing music\n",
    "r5=sr.Recognizer()\n",
    "if \"music\" in instruction:\n",
    "    engine.say(\"what artist should i play?\")\n",
    "    engine.runAndWait()\n",
    "    with sr.Microphone() as source3:\n",
    "        text4 = r5.listen(source3)\n",
    "        try:\n",
    "            audio4 = r5.recognize_google(text4)\n",
    "            print(\"palying\",audio4)\n",
    "            bot=music()\n",
    "            bot.play(audio4)\n",
    "        except sr.UnknownValueError:\n",
    "            print(\" \")\n",
    "        except sr.RequestError as e:\n",
    "            print(\"\")\n",
    "\n",
    "            \n",
    "        \n",
    "    \n",
    "    "
   ]
  },
  {
   "cell_type": "code",
   "execution_count": null,
   "metadata": {},
   "outputs": [],
   "source": [
    "\n",
    "\n"
   ]
  },
  {
   "cell_type": "code",
   "execution_count": null,
   "metadata": {},
   "outputs": [],
   "source": []
  },
  {
   "cell_type": "code",
   "execution_count": null,
   "metadata": {},
   "outputs": [],
   "source": []
  },
  {
   "cell_type": "code",
   "execution_count": null,
   "metadata": {},
   "outputs": [],
   "source": []
  },
  {
   "cell_type": "code",
   "execution_count": null,
   "metadata": {},
   "outputs": [],
   "source": []
  },
  {
   "cell_type": "code",
   "execution_count": null,
   "metadata": {},
   "outputs": [],
   "source": []
  },
  {
   "cell_type": "code",
   "execution_count": null,
   "metadata": {},
   "outputs": [],
   "source": []
  },
  {
   "cell_type": "code",
   "execution_count": null,
   "metadata": {},
   "outputs": [],
   "source": []
  },
  {
   "cell_type": "code",
   "execution_count": 5,
   "metadata": {},
   "outputs": [],
   "source": []
  },
  {
   "cell_type": "code",
   "execution_count": null,
   "metadata": {},
   "outputs": [],
   "source": []
  },
  {
   "cell_type": "code",
   "execution_count": null,
   "metadata": {},
   "outputs": [],
   "source": []
  }
 ],
 "metadata": {
  "kernelspec": {
   "display_name": "Python 3",
   "language": "python",
   "name": "python3"
  },
  "language_info": {
   "codemirror_mode": {
    "name": "ipython",
    "version": 3
   },
   "file_extension": ".py",
   "mimetype": "text/x-python",
   "name": "python",
   "nbconvert_exporter": "python",
   "pygments_lexer": "ipython3",
   "version": "3.7.3"
  }
 },
 "nbformat": 4,
 "nbformat_minor": 4
}
