{
 "cells": [
  {
   "cell_type": "code",
   "execution_count": 1,
   "metadata": {},
   "outputs": [],
   "source": [
    "from selenium import webdriver\n",
    "import pyttsx3 as p\n",
    "import os"
   ]
  },
  {
   "cell_type": "code",
   "execution_count": 2,
   "metadata": {},
   "outputs": [],
   "source": [
    "class info():\n",
    "    def __init__(self):\n",
    "        self.current_path= os.getcwd()\n",
    "        self.driver_path= os.path.join(os.getcwd(),'chromedriver')\n",
    "        self.driver= webdriver.Chrome(self.driver_path)\n",
    "    def get_info(self,query):\n",
    "        self.query=query\n",
    "        self.driver.get(url=\"https://www.wikipedia.org/\")\n",
    "        search=self.driver.find_element_by_xpath('//*[@id=\"searchInput\"]')\n",
    "        search.click()\n",
    "        search.send_keys(query)\n",
    "        enter =self.driver.find_element_by_xpath('//*[@id=\"search-form\"]/fieldset/button/i')\n",
    "        enter.click()\n",
    "        info = self.driver.find_element_by_xpath('//*[@id=\"mw-content-text\"]/div[1]/p[1]')\n",
    "        readable_text =info.text\n",
    "        engine=p.init()\n",
    "        engine.say(readable_text)\n",
    "        engine.runAndWait()\n",
    "    \n",
    "\n",
    "\n",
    "   "
   ]
  },
  {
   "cell_type": "code",
   "execution_count": 17,
   "metadata": {},
   "outputs": [],
   "source": [
    "\n",
    "   "
   ]
  },
  {
   "cell_type": "code",
   "execution_count": null,
   "metadata": {},
   "outputs": [],
   "source": []
  }
 ],
 "metadata": {
  "kernelspec": {
   "display_name": "Python 3",
   "language": "python",
   "name": "python3"
  },
  "language_info": {
   "codemirror_mode": {
    "name": "ipython",
    "version": 3
   },
   "file_extension": ".py",
   "mimetype": "text/x-python",
   "name": "python",
   "nbconvert_exporter": "python",
   "pygments_lexer": "ipython3",
   "version": "3.7.3"
  }
 },
 "nbformat": 4,
 "nbformat_minor": 4
}
