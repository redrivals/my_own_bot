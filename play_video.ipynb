{
 "cells": [
  {
   "cell_type": "code",
   "execution_count": 4,
   "metadata": {},
   "outputs": [],
   "source": [
    "from selenium import webdriver\n",
    "import pyttsx3 as p\n",
    "import os\n",
    "class music():\n",
    "    def __init__(self):\n",
    "        self.current_path= os.getcwd()\n",
    "        self.driver_path= os.path.join(os.getcwd(),'chromedriver')\n",
    "        self.driver= webdriver.Chrome(self.driver_path)\n",
    "    def play(self,name):\n",
    "        self.name=name\n",
    "        self.driver.get(url=\"https://www.youtube.com/results?search_query=\"+name)\n",
    "        video=self.driver.find_element_by_xpath('//*[@id=\"dismissable\"]')\n",
    "        video.click()\n",
    "        \n",
    "    \n",
    "\n",
    "   "
   ]
  },
  {
   "cell_type": "code",
   "execution_count": null,
   "metadata": {},
   "outputs": [],
   "source": []
  }
 ],
 "metadata": {
  "kernelspec": {
   "display_name": "Python 3",
   "language": "python",
   "name": "python3"
  },
  "language_info": {
   "codemirror_mode": {
    "name": "ipython",
    "version": 3
   },
   "file_extension": ".py",
   "mimetype": "text/x-python",
   "name": "python",
   "nbconvert_exporter": "python",
   "pygments_lexer": "ipython3",
   "version": "3.7.3"
  }
 },
 "nbformat": 4,
 "nbformat_minor": 4
}
